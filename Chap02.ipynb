{
  "nbformat": 4,
  "nbformat_minor": 0,
  "metadata": {
    "colab": {
      "provenance": [],
      "collapsed_sections": [
        "IjNbS9QWMMWY"
      ],
      "authorship_tag": "ABX9TyNr9zki2vCYMBqKdvjIK40+",
      "include_colab_link": true
    },
    "kernelspec": {
      "name": "python3",
      "display_name": "Python 3"
    },
    "language_info": {
      "name": "python"
    }
  },
  "cells": [
    {
      "cell_type": "markdown",
      "metadata": {
        "id": "view-in-github",
        "colab_type": "text"
      },
      "source": [
        "<a href=\"https://colab.research.google.com/github/5jisoo/ML-DL-Study/blob/main/Chap02.ipynb\" target=\"_parent\"><img src=\"https://colab.research.google.com/assets/colab-badge.svg\" alt=\"Open In Colab\"/></a>"
      ]
    },
    {
      "cell_type": "markdown",
      "source": [
        "# Chap 02. 데이터 다루기\n"
      ],
      "metadata": {
        "id": "AdKozwGp-5Yb"
      }
    },
    {
      "cell_type": "markdown",
      "source": [
        "## 02-1. 훈련 세트와 테스트 세트\n",
        "\n",
        "### 훈련 세트와 테스트 세트\n",
        "- 테스트 세트: 평가에 사용하는 데이터\n",
        "- 훈련 세트: 훈련에 사용되는 데이터\n",
        "\n",
        "이전엔 테스트 세트와 훈련 세트를 구분하지 않았음 --> 당연히 100%의 정확도가 나옴.\n",
        "\n",
        "이번엔 구분할 예정."
      ],
      "metadata": {
        "id": "IjNbS9QWMMWY"
      }
    },
    {
      "cell_type": "code",
      "source": [
        "fish_length = [25.4, 26.3, 26.5, 29.0, 29.0, 29.7, 29.7, 30.0, 30.0, 30.7, 31.0, 31.0, \n",
        "                31.5, 32.0, 32.0, 32.0, 33.0, 33.0, 33.5, 33.5, 34.0, 34.0, 34.5, 35.0, \n",
        "                35.0, 35.0, 35.0, 36.0, 36.0, 37.0, 38.5, 38.5, 39.5, 41.0, 41.0, 9.8, \n",
        "                10.5, 10.6, 11.0, 11.2, 11.3, 11.8, 11.8, 12.0, 12.2, 12.4, 13.0, 14.3, 15.0]\n",
        "fish_weight = [242.0, 290.0, 340.0, 363.0, 430.0, 450.0, 500.0, 390.0, 450.0, 500.0, 475.0, 500.0, \n",
        "                500.0, 340.0, 600.0, 600.0, 700.0, 700.0, 610.0, 650.0, 575.0, 685.0, 620.0, 680.0, \n",
        "                700.0, 725.0, 720.0, 714.0, 850.0, 1000.0, 920.0, 955.0, 925.0, 975.0, 950.0, 6.7, \n",
        "                7.5, 7.0, 9.7, 9.8, 8.7, 10.0, 9.9, 9.8, 12.2, 13.4, 12.2, 19.7, 19.9]\n",
        "\n",
        "fish_data = [[l, w] for l,w in zip(fish_length, fish_weight)]\n",
        "fish_target = [1] * 35 + [0] * 14"
      ],
      "metadata": {
        "id": "WSPQM7LF_9hh"
      },
      "execution_count": null,
      "outputs": []
    },
    {
      "cell_type": "code",
      "source": [
        "# import 해주기\n",
        "from sklearn.neighbors import KNeighborsClassifier\n",
        "kn = KNeighborsClassifier()"
      ],
      "metadata": {
        "id": "FjNMbD1dAc9O"
      },
      "execution_count": null,
      "outputs": []
    },
    {
      "cell_type": "code",
      "source": [
        "# 훈련 세트 - 35개\n",
        "train_input = fish_data[:35]\n",
        "train_target = fish_target[:35]\n",
        "\n",
        "\n",
        "# 테스트 세트 - 14개\n",
        "test_input = fish_data[35:]\n",
        "test_target = fish_target[35:]"
      ],
      "metadata": {
        "id": "-SrwgOv_Anpv"
      },
      "execution_count": null,
      "outputs": []
    },
    {
      "cell_type": "code",
      "source": [
        "kn.fit(train_input, train_target) # 학습\n",
        "kn.score(test_input, test_target) # test - [문제] 평가 점수 - 0.0....!!!!!! "
      ],
      "metadata": {
        "colab": {
          "base_uri": "https://localhost:8080/"
        },
        "id": "guF0FDHBA_Pp",
        "outputId": "cb2dc98a-4a6b-45ad-a389-526bea2ae0d7"
      },
      "execution_count": null,
      "outputs": [
        {
          "output_type": "execute_result",
          "data": {
            "text/plain": [
              "0.0"
            ]
          },
          "metadata": {},
          "execution_count": 7
        }
      ]
    },
    {
      "cell_type": "markdown",
      "source": [
        "### 샘플링 편향\n",
        "\n",
        "문제? ==> 훈련 세트에는 빙어가 하나도 들어가있지 않고, \n",
        "테스트세트에는 빙어만 있다는 것..!!\n",
        "\n",
        "훈련 세트와 테스트 세트를 나누려면 도미와 빙어가 골고루 섞이게 해라!\n",
        "\n",
        "<br>\n",
        "\n",
        "샘플링이 한쪽으로 치우쳐진 상태임. == **샘플링 편향**!!"
      ],
      "metadata": {
        "id": "ZulyiLFDBX9y"
      }
    },
    {
      "cell_type": "markdown",
      "source": [
        "### 넘파이\n",
        "\n",
        "파이썬 배열 라이브러리.\n",
        "\n",
        "고차원의 배열을 손쉽게 만들고 조작할 수 있도록 한다!"
      ],
      "metadata": {
        "id": "LAyizh-wB0f9"
      }
    },
    {
      "cell_type": "code",
      "source": [
        "# 넘파이 라이브러리 임포트\n",
        "import numpy as np"
      ],
      "metadata": {
        "id": "jALi3G2lB9x5"
      },
      "execution_count": null,
      "outputs": []
    },
    {
      "cell_type": "code",
      "source": [
        "# 파이썬 리스트를 넘파이 배열로 변환\n",
        "input_arr = np.array(fish_data)\n",
        "target_arr = np.array(fish_target)\n",
        "\n",
        "input_arr # 확인하기"
      ],
      "metadata": {
        "colab": {
          "base_uri": "https://localhost:8080/"
        },
        "id": "UpCKLX5PCDzd",
        "outputId": "768b8266-a957-4c02-9f81-e496e82102f9"
      },
      "execution_count": null,
      "outputs": [
        {
          "output_type": "execute_result",
          "data": {
            "text/plain": [
              "array([[  25.4,  242. ],\n",
              "       [  26.3,  290. ],\n",
              "       [  26.5,  340. ],\n",
              "       [  29. ,  363. ],\n",
              "       [  29. ,  430. ],\n",
              "       [  29.7,  450. ],\n",
              "       [  29.7,  500. ],\n",
              "       [  30. ,  390. ],\n",
              "       [  30. ,  450. ],\n",
              "       [  30.7,  500. ],\n",
              "       [  31. ,  475. ],\n",
              "       [  31. ,  500. ],\n",
              "       [  31.5,  500. ],\n",
              "       [  32. ,  340. ],\n",
              "       [  32. ,  600. ],\n",
              "       [  32. ,  600. ],\n",
              "       [  33. ,  700. ],\n",
              "       [  33. ,  700. ],\n",
              "       [  33.5,  610. ],\n",
              "       [  33.5,  650. ],\n",
              "       [  34. ,  575. ],\n",
              "       [  34. ,  685. ],\n",
              "       [  34.5,  620. ],\n",
              "       [  35. ,  680. ],\n",
              "       [  35. ,  700. ],\n",
              "       [  35. ,  725. ],\n",
              "       [  35. ,  720. ],\n",
              "       [  36. ,  714. ],\n",
              "       [  36. ,  850. ],\n",
              "       [  37. , 1000. ],\n",
              "       [  38.5,  920. ],\n",
              "       [  38.5,  955. ],\n",
              "       [  39.5,  925. ],\n",
              "       [  41. ,  975. ],\n",
              "       [  41. ,  950. ],\n",
              "       [   9.8,    6.7],\n",
              "       [  10.5,    7.5],\n",
              "       [  10.6,    7. ],\n",
              "       [  11. ,    9.7],\n",
              "       [  11.2,    9.8],\n",
              "       [  11.3,    8.7],\n",
              "       [  11.8,   10. ],\n",
              "       [  11.8,    9.9],\n",
              "       [  12. ,    9.8],\n",
              "       [  12.2,   12.2],\n",
              "       [  12.4,   13.4],\n",
              "       [  13. ,   12.2],\n",
              "       [  14.3,   19.7],\n",
              "       [  15. ,   19.9]])"
            ]
          },
          "metadata": {},
          "execution_count": 12
        }
      ]
    },
    {
      "cell_type": "markdown",
      "source": [
        "훈련 세트와 테스트 세트를 마구잡이로 섞어주어야 함.\n",
        "\n",
        "근데 각각의 인덱스를 기억하는 건 어려움\n",
        "\n",
        "차라리 인덱스를 섞은 다음, input_arr와 target_arr에서 각각 샘플을 선택하도록 하자!\n",
        "\n",
        "\n",
        "---\n",
        "\n",
        "\n",
        "\n",
        "- 넘파이의 arange(n) 함수 : 0부터 n-1까지 1씩 증가하는 인덱스를 만들 수 있음.\n",
        "\n",
        "- shuffle()을 사용하여 데이터를 섞어줌.\n",
        "  - 책과 동일한 결과를 얻기 위해 랜덤 시드를 미리 설정함. "
      ],
      "metadata": {
        "id": "Ss3p2DXzCZCs"
      }
    },
    {
      "cell_type": "code",
      "source": [
        "np.random.seed(42)\n",
        "index = np.arange(49)\n",
        "np.random.shuffle(index)\n",
        "index # 확인"
      ],
      "metadata": {
        "colab": {
          "base_uri": "https://localhost:8080/"
        },
        "id": "o8wD-WPqDIfc",
        "outputId": "093a4048-dce9-4d2f-9a0d-7a18fc9a4aa6"
      },
      "execution_count": null,
      "outputs": [
        {
          "output_type": "execute_result",
          "data": {
            "text/plain": [
              "array([13, 45, 47, 44, 17, 27, 26, 25, 31, 19, 12,  4, 34,  8,  3,  6, 40,\n",
              "       41, 46, 15,  9, 16, 24, 33, 30,  0, 43, 32,  5, 29, 11, 36,  1, 21,\n",
              "        2, 37, 35, 23, 39, 10, 22, 18, 48, 20,  7, 42, 14, 28, 38])"
            ]
          },
          "metadata": {},
          "execution_count": 13
        }
      ]
    },
    {
      "cell_type": "markdown",
      "source": [
        "넘파이의 배열 인덱싱 기능 사용하기\n",
        "- 여러 개의 인덱스로 한 번에 어러 개의 원소를 선택할 수 있게 함.\n",
        "- 리스트 대신 넘파이 배열을 인덱스로 전달해줌."
      ],
      "metadata": {
        "id": "O25NEouVDdAB"
      }
    },
    {
      "cell_type": "code",
      "source": [
        "# 확인\n",
        "print(input_arr[[1,3]]) # 배열 인덱싱\n",
        "print(index[:35])\n",
        "\n",
        "# 훈련 세트 만들기\n",
        "train_input = input_arr[index[:35]]\n",
        "train_target = target_arr[index[:35]]\n",
        "\n",
        "# 테스트 세트 만들기\n",
        "test_input = input_arr[index[35:]]\n",
        "test_target = target_arr[index[35:]]"
      ],
      "metadata": {
        "colab": {
          "base_uri": "https://localhost:8080/"
        },
        "id": "WCg1V7ZTDkrs",
        "outputId": "3f6d222c-a601-4e24-db64-a4055620caf3"
      },
      "execution_count": null,
      "outputs": [
        {
          "output_type": "stream",
          "name": "stdout",
          "text": [
            "[[ 26.3 290. ]\n",
            " [ 29.  363. ]]\n",
            "[13 45 47 44 17 27 26 25 31 19 12  4 34  8  3  6 40 41 46 15  9 16 24 33\n",
            " 30  0 43 32  5 29 11 36  1 21  2]\n"
          ]
        }
      ]
    },
    {
      "cell_type": "markdown",
      "source": [
        "!! 참고 !!\n",
        "- 2차원 배열의 행과 열 인덱스를 콤마(,)로 나누어 지정함\n",
        "  - ex) 1번째 행, 0번째 열 ==> array[1, 0]\n",
        "- 슬라이싱 연산자를 통해 처음부터 마지막 원소까지 모두 선택? 시작, 종료 인덱스 모두 생략 가능함.\n",
        "  - ex) 모든 행의 0번째 열 ==> array[:, 0]"
      ],
      "metadata": {
        "id": "Cba1-YVTFcRf"
      }
    },
    {
      "cell_type": "code",
      "source": [
        "# 테스트 세트가 잘 섞였는지 확인\n",
        "\n",
        "import matplotlib.pyplot as plt\n",
        "\n",
        "plt.scatter(train_input[:, 0], train_input[:, 1])\n",
        "plt.scatter(test_input[:, 0], test_input[:, 1])\n",
        "plt.xlabel('length')\n",
        "plt.ylabel('weight')\n",
        "plt.show()"
      ],
      "metadata": {
        "colab": {
          "base_uri": "https://localhost:8080/",
          "height": 279
        },
        "id": "ekampUGgEWxo",
        "outputId": "422d7427-4ed9-4a52-8523-78e9a2ff0628"
      },
      "execution_count": null,
      "outputs": [
        {
          "output_type": "display_data",
          "data": {
            "text/plain": [
              "<Figure size 432x288 with 1 Axes>"
            ],
            "image/png": "[encoded data removed]"
          },
          "metadata": {
            "needs_background": "light"
          }
        }
      ]
    },
    {
      "cell_type": "markdown",
      "source": [
        "### 두 번째 머신러닝 프로그램\n",
        "\n",
        "앞에서 만든 훈련, 테스트 세트로 k-최근접 이웃 모델을 훈련, 테스트 해보자`!"
      ],
      "metadata": {
        "id": "CLU-UJL7GEua"
      }
    },
    {
      "cell_type": "code",
      "source": [
        "kn.fit(train_input, train_target) # 훈련\n",
        "kn.score(test_input, test_target) # test - 1.0 ==> good!~"
      ],
      "metadata": {
        "colab": {
          "base_uri": "https://localhost:8080/"
        },
        "id": "EOLKwJXYHNwY",
        "outputId": "0de20843-1ae1-45aa-ec6f-0dd62d48a65f"
      },
      "execution_count": null,
      "outputs": [
        {
          "output_type": "execute_result",
          "data": {
            "text/plain": [
              "1.0"
            ]
          },
          "metadata": {},
          "execution_count": 30
        }
      ]
    },
    {
      "cell_type": "code",
      "source": [
        "# 예측 결과와 실제 타깃 비교해보기\n",
        "\n",
        "kn.predict(test_input)  # 예측 결과"
      ],
      "metadata": {
        "colab": {
          "base_uri": "https://localhost:8080/"
        },
        "id": "N_FMle4oHe-1",
        "outputId": "e97f7d20-ce45-488c-d113-95cdb266f06c"
      },
      "execution_count": null,
      "outputs": [
        {
          "output_type": "execute_result",
          "data": {
            "text/plain": [
              "array([0, 0, 1, 0, 1, 1, 1, 0, 1, 1, 0, 1, 1, 0])"
            ]
          },
          "metadata": {},
          "execution_count": 33
        }
      ]
    },
    {
      "cell_type": "code",
      "source": [
        "test_target # 실제 결과"
      ],
      "metadata": {
        "colab": {
          "base_uri": "https://localhost:8080/"
        },
        "id": "6XPUSv24H8Hh",
        "outputId": "5893f55e-c46c-42d2-bfe7-fcfb598a8369"
      },
      "execution_count": null,
      "outputs": [
        {
          "output_type": "execute_result",
          "data": {
            "text/plain": [
              "array([0, 0, 1, 0, 1, 1, 1, 0, 1, 1, 0, 1, 1, 0])"
            ]
          },
          "metadata": {},
          "execution_count": 34
        }
      ]
    },
    {
      "cell_type": "markdown",
      "source": [
        "예측 결과와 실제 결과가 동일하고, 둘다 array() 배열로 감싸져있음!\n",
        "\n",
        "--> 둘다 넘파이 배열임!\n",
        "\n",
        "사실 사이킷런 모델의 입력과 출력은 모두 **넘파이 배열**이다!"
      ],
      "metadata": {
        "id": "_4xHgxuLIAAp"
      }
    },
    {
      "cell_type": "code",
      "source": [
        "''' 전체 코드 확인하기 '''\n",
        "\n",
        "fish_length = [25.4, 26.3, 26.5, 29.0, 29.0, 29.7, 29.7, 30.0, 30.0, 30.7, 31.0, 31.0, \n",
        "                31.5, 32.0, 32.0, 32.0, 33.0, 33.0, 33.5, 33.5, 34.0, 34.0, 34.5, 35.0, \n",
        "                35.0, 35.0, 35.0, 36.0, 36.0, 37.0, 38.5, 38.5, 39.5, 41.0, 41.0, 9.8, \n",
        "                10.5, 10.6, 11.0, 11.2, 11.3, 11.8, 11.8, 12.0, 12.2, 12.4, 13.0, 14.3, 15.0]\n",
        "fish_weight = [242.0, 290.0, 340.0, 363.0, 430.0, 450.0, 500.0, 390.0, 450.0, 500.0, 475.0, 500.0, \n",
        "                500.0, 340.0, 600.0, 600.0, 700.0, 700.0, 610.0, 650.0, 575.0, 685.0, 620.0, 680.0, \n",
        "                700.0, 725.0, 720.0, 714.0, 850.0, 1000.0, 920.0, 955.0, 925.0, 975.0, 950.0, 6.7, \n",
        "                7.5, 7.0, 9.7, 9.8, 8.7, 10.0, 9.9, 9.8, 12.2, 13.4, 12.2, 19.7, 19.9]\n",
        "\n",
        "fish_data = [[l, w] for l,w in zip(fish_length, fish_weight)]\n",
        "fish_target = [1] * 35 + [0] * 14\n",
        "\n",
        "# 사이킷런 임포트\n",
        "from sklearn.neighbors import KNeighborsClassifier\n",
        "kn = KNeighborsClassifier()\n",
        "\n",
        "\n",
        "''' 샘플링 편향된 예시 '''\n",
        "# 훈련 세트 - 35개\n",
        "train_input = fish_data[:35]\n",
        "train_target = fish_target[:35]\n",
        "\n",
        "\n",
        "# 테스트 세트 - 14개\n",
        "test_input = fish_data[35:]\n",
        "test_target = fish_target[35:]\n",
        "\n",
        "kn.fit(train_input, train_target) # 학습\n",
        "print(\"샘플링 편향된 예시 test:\", kn.score(test_input, test_target)) # test - [문제] 평가 점수 - 0.0....!!!!!! \n",
        "\n",
        "\n",
        "''' 넘파이 라이브러리를 사용하여 샘플링 편향 해소해주기 '''\n",
        "# 넘파이 라이브러리 임포트\n",
        "import numpy as np\n",
        "\n",
        "# 파이썬 리스트를 넘파이 배열로 변환\n",
        "input_arr = np.array(fish_data)\n",
        "target_arr = np.array(fish_target)\n",
        "\n",
        "# 훈련과 테스트 세트를 섞어주기 위해 --> index를 섞어줌\n",
        "np.random.seed(42)\n",
        "index = np.arange(49)\n",
        "np.random.shuffle(index)\n",
        "\n",
        "# 훈련 세트 만들기\n",
        "train_input = input_arr[index[:35]]\n",
        "train_target = target_arr[index[:35]]\n",
        "\n",
        "# 테스트 세트 만들기\n",
        "test_input = input_arr[index[35:]]\n",
        "test_target = target_arr[index[35:]]\n",
        "\n",
        "\n",
        "''' 테스트 세트가 잘 섞였는지 확인하기 '''\n",
        "import matplotlib.pyplot as plt\n",
        "\n",
        "plt.scatter(train_input[:, 0], train_input[:, 1])\n",
        "plt.scatter(test_input[:, 0], test_input[:, 1])\n",
        "plt.xlabel('length')\n",
        "plt.ylabel('weight')\n",
        "plt.show()\n",
        "\n",
        "\n",
        "# 훈련, 테스트\n",
        "kn.fit(train_input, train_target) # 훈련\n",
        "print(\"데이터 세트를 잘 섞은 뒤의 test:\", kn.score(test_input, test_target)) # test - 1.0 ==> good!~\n"
      ],
      "metadata": {
        "colab": {
          "base_uri": "https://localhost:8080/",
          "height": 316
        },
        "id": "7Vpp-xasIQKQ",
        "outputId": "b809bbf1-df50-4b89-c2b4-3a0def9be78c"
      },
      "execution_count": null,
      "outputs": [
        {
          "output_type": "stream",
          "name": "stdout",
          "text": [
            "샘플링 편향된 예시 test: 0.0\n"
          ]
        },
        {
          "output_type": "display_data",
          "data": {
            "text/plain": [
              "<Figure size 432x288 with 1 Axes>"
            ],
            "image/png": "[encoded data removed]"
          },
          "metadata": {
            "needs_background": "light"
          }
        },
        {
          "output_type": "stream",
          "name": "stdout",
          "text": [
            "데이터 세트를 잘 섞은 뒤의 test: 1.0\n"
          ]
        }
      ]
    },
    {
      "cell_type": "markdown",
      "source": [
        "\n",
        "\n",
        "---\n",
        "\n",
        "\n",
        "## 02-2. 데이터 전처리\n",
        "\n",
        "올바른 결과 도출을 위해 데이터를 사용하기 전 데이터 전처리 과정을 거쳐야 한다!\n",
        "\n",
        "### 넘파이로 데이터 준비하기\n"
      ],
      "metadata": {
        "id": "GXEBIQIJJzTV"
      }
    },
    {
      "cell_type": "code",
      "source": [
        "fish_length = [25.4, 26.3, 26.5, 29.0, 29.0, 29.7, 29.7, 30.0, 30.0, 30.7, 31.0, 31.0, \n",
        "                31.5, 32.0, 32.0, 32.0, 33.0, 33.0, 33.5, 33.5, 34.0, 34.0, 34.5, 35.0, \n",
        "                35.0, 35.0, 35.0, 36.0, 36.0, 37.0, 38.5, 38.5, 39.5, 41.0, 41.0, 9.8, \n",
        "                10.5, 10.6, 11.0, 11.2, 11.3, 11.8, 11.8, 12.0, 12.2, 12.4, 13.0, 14.3, 15.0]\n",
        "fish_weight = [242.0, 290.0, 340.0, 363.0, 430.0, 450.0, 500.0, 390.0, 450.0, 500.0, 475.0, 500.0, \n",
        "                500.0, 340.0, 600.0, 600.0, 700.0, 700.0, 610.0, 650.0, 575.0, 685.0, 620.0, 680.0, \n",
        "                700.0, 725.0, 720.0, 714.0, 850.0, 1000.0, 920.0, 955.0, 925.0, 975.0, 950.0, 6.7, \n",
        "                7.5, 7.0, 9.7, 9.8, 8.7, 10.0, 9.9, 9.8, 12.2, 13.4, 12.2, 19.7, 19.9]"
      ],
      "metadata": {
        "id": "tcZnHx06JzTC"
      },
      "execution_count": 100,
      "outputs": []
    },
    {
      "cell_type": "markdown",
      "source": [
        "생선 데이터 준비하기\n",
        "- column_stack() 함수: 전달받은 리스트를 일렬로 세운 다음 차례대로 나란히 연결함.\n",
        "  - 연결할 리스트는 파이썬 tuple로 전달."
      ],
      "metadata": {
        "id": "68kHihquKJGW"
      }
    },
    {
      "cell_type": "code",
      "source": [
        "np.column_stack(([1,2,3], [4,5,6]))"
      ],
      "metadata": {
        "colab": {
          "base_uri": "https://localhost:8080/"
        },
        "id": "BndoDp5YKQQ3",
        "outputId": "333dabee-fdb7-4ab9-b604-32a216bb22b2"
      },
      "execution_count": 101,
      "outputs": [
        {
          "output_type": "execute_result",
          "data": {
            "text/plain": [
              "array([[1, 4],\n",
              "       [2, 5],\n",
              "       [3, 6]])"
            ]
          },
          "metadata": {},
          "execution_count": 101
        }
      ]
    },
    {
      "cell_type": "markdown",
      "source": [
        "```[1,2,3]``` 과 ```[4,5,6]``` 두 리스트를 일렬로 세운 다음 나란히 옆으로 붙인 걸 확인할 수 있음.\n",
        "\n",
        "```python\n",
        "array([[1, 4],\n",
        "       [2, 5],\n",
        "       [3, 6]])\n",
        "```"
      ],
      "metadata": {
        "id": "BRQf9plrKeoo"
      }
    },
    {
      "cell_type": "code",
      "source": [
        "import numpy as np\n",
        "\n",
        "# fish_length와 fish_weight 데이터를 일렬로 세워서 나란히 옆으로 붙여줌.\n",
        "fish_data = np.column_stack((fish_length, fish_weight))\n",
        "fish_data"
      ],
      "metadata": {
        "colab": {
          "base_uri": "https://localhost:8080/"
        },
        "id": "TX37AcYRJ5Us",
        "outputId": "f8261006-cd45-412c-a82a-1b942cb22944"
      },
      "execution_count": 102,
      "outputs": [
        {
          "output_type": "execute_result",
          "data": {
            "text/plain": [
              "array([[  25.4,  242. ],\n",
              "       [  26.3,  290. ],\n",
              "       [  26.5,  340. ],\n",
              "       [  29. ,  363. ],\n",
              "       [  29. ,  430. ],\n",
              "       [  29.7,  450. ],\n",
              "       [  29.7,  500. ],\n",
              "       [  30. ,  390. ],\n",
              "       [  30. ,  450. ],\n",
              "       [  30.7,  500. ],\n",
              "       [  31. ,  475. ],\n",
              "       [  31. ,  500. ],\n",
              "       [  31.5,  500. ],\n",
              "       [  32. ,  340. ],\n",
              "       [  32. ,  600. ],\n",
              "       [  32. ,  600. ],\n",
              "       [  33. ,  700. ],\n",
              "       [  33. ,  700. ],\n",
              "       [  33.5,  610. ],\n",
              "       [  33.5,  650. ],\n",
              "       [  34. ,  575. ],\n",
              "       [  34. ,  685. ],\n",
              "       [  34.5,  620. ],\n",
              "       [  35. ,  680. ],\n",
              "       [  35. ,  700. ],\n",
              "       [  35. ,  725. ],\n",
              "       [  35. ,  720. ],\n",
              "       [  36. ,  714. ],\n",
              "       [  36. ,  850. ],\n",
              "       [  37. , 1000. ],\n",
              "       [  38.5,  920. ],\n",
              "       [  38.5,  955. ],\n",
              "       [  39.5,  925. ],\n",
              "       [  41. ,  975. ],\n",
              "       [  41. ,  950. ],\n",
              "       [   9.8,    6.7],\n",
              "       [  10.5,    7.5],\n",
              "       [  10.6,    7. ],\n",
              "       [  11. ,    9.7],\n",
              "       [  11.2,    9.8],\n",
              "       [  11.3,    8.7],\n",
              "       [  11.8,   10. ],\n",
              "       [  11.8,    9.9],\n",
              "       [  12. ,    9.8],\n",
              "       [  12.2,   12.2],\n",
              "       [  12.4,   13.4],\n",
              "       [  13. ,   12.2],\n",
              "       [  14.3,   19.7],\n",
              "       [  15. ,   19.9]])"
            ]
          },
          "metadata": {},
          "execution_count": 102
        }
      ]
    },
    {
      "cell_type": "markdown",
      "source": [
        "타깃 데이터 만들기\n",
        "\n",
        "- np.ones(): 1을 채운 배열을 만듦.\n",
        "- np.zeros(): 0을 채운 배열을 만듦."
      ],
      "metadata": {
        "id": "LCGaocuGK4-I"
      }
    },
    {
      "cell_type": "code",
      "source": [
        "# 예시 확인하기\n",
        "print(np.ones(5))"
      ],
      "metadata": {
        "colab": {
          "base_uri": "https://localhost:8080/"
        },
        "id": "hKqaQPadLMaW",
        "outputId": "ab4ae651-cf59-4dc1-af58-a17af77e2bb1"
      },
      "execution_count": 81,
      "outputs": [
        {
          "output_type": "stream",
          "name": "stdout",
          "text": [
            "[1. 1. 1. 1. 1.]\n"
          ]
        }
      ]
    },
    {
      "cell_type": "markdown",
      "source": [
        "- np.concatenate(): 두 배열을 연결해줌."
      ],
      "metadata": {
        "id": "s2a3chzdLXZr"
      }
    },
    {
      "cell_type": "code",
      "source": [
        "# 타깃 데이터 만들기\n",
        "fish_target = np.concatenate((np.ones(35), np.zeros(14)))\n",
        "fish_target"
      ],
      "metadata": {
        "colab": {
          "base_uri": "https://localhost:8080/"
        },
        "id": "Is1pCnHBLc7P",
        "outputId": "e67b8e74-27ec-4866-f9fd-6e8118e0e93f"
      },
      "execution_count": 103,
      "outputs": [
        {
          "output_type": "execute_result",
          "data": {
            "text/plain": [
              "array([1., 1., 1., 1., 1., 1., 1., 1., 1., 1., 1., 1., 1., 1., 1., 1., 1.,\n",
              "       1., 1., 1., 1., 1., 1., 1., 1., 1., 1., 1., 1., 1., 1., 1., 1., 1.,\n",
              "       1., 0., 0., 0., 0., 0., 0., 0., 0., 0., 0., 0., 0., 0., 0.])"
            ]
          },
          "metadata": {},
          "execution_count": 103
        }
      ]
    },
    {
      "cell_type": "markdown",
      "source": [
        "### 사이킷런으로 훈련 세트와 테스트 세트 나누기\n",
        "\n",
        "전처럼 인덱스를 직접 섞지말고 세련된 방법을 사용해보자!\n",
        "\n",
        "- train_test_split(): 전달되는 리스트나 배열을 알아서 섞어서, 비율에 맞게 훈련 세트와 테스트 세트로 나누어줌.\n",
        "  - model_selection 모듈 아래에 있음."
      ],
      "metadata": {
        "id": "icTJezRxLsjn"
      }
    },
    {
      "cell_type": "code",
      "source": [
        "# model_selection 모듈 import 해주기\n",
        "\n",
        "from sklearn.model_selection import train_test_split"
      ],
      "metadata": {
        "id": "fIZueu4WMBnI"
      },
      "execution_count": 104,
      "outputs": []
    },
    {
      "cell_type": "markdown",
      "source": [
        "- 사용법\n",
        "  - 나누고 싶은 리스트 or 배열을 원하는 만큼 전달하면 됨.\n",
        "  - 랜덤 시드 설정: random_state 매개변수 사용\n",
        "- return값\n",
        "  - 훈련용 입력 데이터, 테스트용 입력 데이터, 훈련용 정답 데이터, 테스트용 정답 데이터\n",
        "- 기본값\n",
        "  - 25%를 테스트 세트로 떼어냄."
      ],
      "metadata": {
        "id": "ovDg0v3kMJMw"
      }
    },
    {
      "cell_type": "code",
      "source": [
        "train_input, test_input, train_target, test_target = train_test_split(fish_data, fish_target, random_state=42)"
      ],
      "metadata": {
        "id": "btkMyIQUMg6a"
      },
      "execution_count": 105,
      "outputs": []
    },
    {
      "cell_type": "markdown",
      "source": [
        "- 샘플링 편향 방지 기능\n",
        "  - stratify 매개변수에 타깃 데이터를 전달> 각 세트에 샘플의 클래스 비율이 일정하도록 데이터를 나눔."
      ],
      "metadata": {
        "id": "3JwaI-DqNH6R"
      }
    },
    {
      "cell_type": "code",
      "source": [
        "train_input, test_input, train_target, test_target = train_test_split(\n",
        "    fish_data, fish_target, stratify=fish_target,random_state=42)"
      ],
      "metadata": {
        "id": "zAVMTC0yNexB"
      },
      "execution_count": 106,
      "outputs": []
    },
    {
      "cell_type": "markdown",
      "source": [
        "### 수상한 도미 한마리\n",
        "\n",
        "k- 최근접 이웃을 훈련해보자."
      ],
      "metadata": {
        "id": "EeGn6qFgNmO8"
      }
    },
    {
      "cell_type": "code",
      "source": [
        "from sklearn.neighbors import KNeighborsClassifier\n",
        "kn = KNeighborsClassifier()\n",
        "kn.fit(train_input, train_target)\n",
        "kn.score(test_input, test_target) # 1.0"
      ],
      "metadata": {
        "colab": {
          "base_uri": "https://localhost:8080/"
        },
        "id": "eYMWro4VOgoI",
        "outputId": "fe023e35-1217-423f-db0b-3dd7a1537223"
      },
      "execution_count": 107,
      "outputs": [
        {
          "output_type": "execute_result",
          "data": {
            "text/plain": [
              "1.0"
            ]
          },
          "metadata": {},
          "execution_count": 107
        }
      ]
    },
    {
      "cell_type": "markdown",
      "source": [
        "새로운 도미 데이터를 넣어서 결과를 확인해보자\n",
        "\n",
        "`[[25, 150]]`"
      ],
      "metadata": {
        "id": "vU5UVqT5O62S"
      }
    },
    {
      "cell_type": "code",
      "source": [
        "kn.predict([[25, 150]]) # 0..... 빙어라고 나옴."
      ],
      "metadata": {
        "colab": {
          "base_uri": "https://localhost:8080/"
        },
        "id": "QDkGIqACPEdr",
        "outputId": "8db040c2-d045-484c-8836-b5ce093553c2"
      },
      "execution_count": 108,
      "outputs": [
        {
          "output_type": "execute_result",
          "data": {
            "text/plain": [
              "array([0.])"
            ]
          },
          "metadata": {},
          "execution_count": 108
        }
      ]
    },
    {
      "cell_type": "markdown",
      "source": [
        "0이 출력됨. >> 빙어라고 예측이 됨..!\n",
        "\n",
        "데이터를 시각적으로 다시 확인해보자."
      ],
      "metadata": {
        "id": "ayzNueafPM8_"
      }
    },
    {
      "cell_type": "code",
      "source": [
        "import matplotlib.pyplot as plt\n",
        "\n",
        "plt.title(\"Data Check\")\n",
        "plt.scatter(train_input[:, 0], train_input[:, 1])\n",
        "plt.scatter(25, 150, marker=\"^\")  # marker는 모양을 지정함.\n",
        "plt.xlabel('length')\n",
        "plt.ylabel('weight')\n",
        "plt.show()"
      ],
      "metadata": {
        "colab": {
          "base_uri": "https://localhost:8080/",
          "height": 295
        },
        "id": "2toJRQHKPSp_",
        "outputId": "48319d0a-07a0-4397-9191-96a762bd2e9c"
      },
      "execution_count": 109,
      "outputs": [
        {
          "output_type": "display_data",
          "data": {
            "text/plain": [
              "<Figure size 432x288 with 1 Axes>"
            ],
            "image/png": "[encoded data removed]"
          },
          "metadata": {
            "needs_background": "light"
          }
        }
      ]
    },
    {
      "cell_type": "markdown",
      "source": [
        "분명 샘플은 도미 데이터에 더 가까움.\n",
        "\n",
        "k-최근접 이웃 방법에 따라, 샘플에서 가장 가까운 5개의 이웃 샘플을 다시 그려서 확인해보자.\n",
        "\n",
        "- kneighbors(): 이웃까지의 거리, 이웃 샘플의 인덱스를 반환\n"
      ],
      "metadata": {
        "id": "HKl43EcxP5ef"
      }
    },
    {
      "cell_type": "code",
      "source": [
        "distances, indexes = kn.kneighbors([[25, 150]]) # 샘플에서 가까운 이웃들의 거리, 인덱스를 저장\n",
        "\n",
        "plt.title(\"Display nearby data\")\n",
        "plt.scatter(train_input[:, 0], train_input[:, 1])\n",
        "plt.scatter(25, 150, marker = '^')\n",
        "plt.scatter(train_input[indexes, 0], train_input[indexes, 1], marker='D')\n",
        "plt.xlabel('length')\n",
        "plt.ylabel('weight')\n",
        "plt.show()"
      ],
      "metadata": {
        "colab": {
          "base_uri": "https://localhost:8080/",
          "height": 295
        },
        "id": "pWngIkjdQT70",
        "outputId": "fab0497f-f329-4c27-b0c8-ab53287aa349"
      },
      "execution_count": 110,
      "outputs": [
        {
          "output_type": "display_data",
          "data": {
            "text/plain": [
              "<Figure size 432x288 with 1 Axes>"
            ],
            "image/png": "[encoded data removed]"
          },
          "metadata": {
            "needs_background": "light"
          }
        }
      ]
    },
    {
      "cell_type": "code",
      "source": [
        "# 직접 데이터 확인하기\n",
        "print(train_input[indexes])\n",
        "print(train_target[indexes])\n",
        "print(distances)"
      ],
      "metadata": {
        "colab": {
          "base_uri": "https://localhost:8080/"
        },
        "id": "MwvqANykRyeD",
        "outputId": "64150843-cf45-4ce0-916d-bac44fff26ac"
      },
      "execution_count": 111,
      "outputs": [
        {
          "output_type": "stream",
          "name": "stdout",
          "text": [
            "[[[ 25.4 242. ]\n",
            "  [ 15.   19.9]\n",
            "  [ 14.3  19.7]\n",
            "  [ 13.   12.2]\n",
            "  [ 12.2  12.2]]]\n",
            "[[1. 0. 0. 0. 0.]]\n",
            "[[ 92.00086956 130.48375378 130.73859415 138.32150953 138.39320793]]\n"
          ]
        }
      ]
    },
    {
      "cell_type": "markdown",
      "source": [
        "위의 그래프에서는 x축의 범위가 좁고, y축의 범위가 넓음.\n",
        "> 따라서 y축으로 조금만 멀어져도 거리가 아주 큰 값으로 계산이 되는 것!\n",
        "\n",
        "<br>\n",
        "\n",
        "눈으로 더 명확히 확인해보자. :: x축의 범위를 동일하게 0~1,000으로 맞추어 보자"
      ],
      "metadata": {
        "id": "2HCr1eTvSkib"
      }
    },
    {
      "cell_type": "code",
      "source": [
        "plt.title(\"Scale the x-axis\")\n",
        "plt.scatter(train_input[:, 0], train_input[:, 1])\n",
        "plt.scatter(25, 150, marker = '^')\n",
        "plt.scatter(train_input[indexes, 0], train_input[indexes, 1], marker='D')\n",
        "plt.xlim((0, 1000)) # 범위 설정하기\n",
        "plt.xlabel('length')\n",
        "plt.ylabel('weight')\n",
        "plt.show()"
      ],
      "metadata": {
        "colab": {
          "base_uri": "https://localhost:8080/",
          "height": 295
        },
        "id": "O0U44YfyS5hm",
        "outputId": "2621dab0-7a3c-41e1-b1a4-451d1dcc90c8"
      },
      "execution_count": 112,
      "outputs": [
        {
          "output_type": "display_data",
          "data": {
            "text/plain": [
              "<Figure size 432x288 with 1 Axes>"
            ],
            "image/png": "[encoded data removed]"
          },
          "metadata": {
            "needs_background": "light"
          }
        }
      ]
    },
    {
      "cell_type": "markdown",
      "source": [
        "이런 데이터라면? x축(length)은 데이터 판단에 크게 영향을 끼치지 못함. \n",
        "\n",
        "오로지 y축인 생선의 무게(weight)만 고려 대상이 되는 것!\n",
        "\n",
        "> 두 특성(길이와 무게)의 값이 놓인 범위가 매우 상이함. <br>\n",
        "> 즉, 두 특성의 스케일이 다름.\n",
        "\n",
        "<br>\n",
        "\n",
        "데이터를 표현하는 기준이 다르다면 특히 거리 기반 알고리즘의 예측 정확도가 떨어짐.\n",
        "\n",
        "k-최근접 이웃 역시도 거리 기반 ==>  정확도가 떨어짐.\n",
        "\n",
        "> 특성값을 일정한 기준으로 맞춰 주어야 함. <br>\n",
        "> 이러한 작업이 데이터 전처리."
      ],
      "metadata": {
        "id": "Ks8G2O1iTEFW"
      }
    },
    {
      "cell_type": "markdown",
      "source": [
        "가장 널리 사용하는 전처리 방법: **표준 점수(z 점수)**\n",
        "\n",
        "\n",
        "- 표준점수: 각 특성값이 평균에서 표준편차의 몇 배만큼 떨어져 있는지를 나타냄.\n",
        "  - 실제 특성값의 크기와 상관없이 동일한 조건으로 비교 가능.\n",
        "\n",
        "- np.mean(): 평균 계산\n",
        "- np.std() : 표준편차 계산\n",
        "  - 평균과 표준편차는 각 특성별로 계산해야 하므로 axis= 0으로 지정함.\n",
        "  - axis=0? 각 열의 통계값을 계산함."
      ],
      "metadata": {
        "id": "u1lHoW5mT_qH"
      }
    },
    {
      "cell_type": "code",
      "source": [
        "mean = np.mean(train_input, axis=0)\n",
        "std = np.std(train_input, axis=0)\n",
        "\n",
        "print(mean, std)"
      ],
      "metadata": {
        "colab": {
          "base_uri": "https://localhost:8080/"
        },
        "id": "s5MDLXDnTeX1",
        "outputId": "74183827-b016-456c-911b-f2192e170227"
      },
      "execution_count": 113,
      "outputs": [
        {
          "output_type": "stream",
          "name": "stdout",
          "text": [
            "[ 27.29722222 454.09722222] [  9.98244253 323.29893931]\n"
          ]
        }
      ]
    },
    {
      "cell_type": "markdown",
      "source": [
        "표준 점수 변환\n",
        "- (원본데이터 - 평균) / 표준편차\n",
        "\n",
        "<br>\n",
        "\n",
        "밑의 식의 원리?\n",
        "- 넘파이는 train_input의 모든 행의 각 특성들에 계산을 적용함.\n",
        "  - mean에 들어있는 각 특성들의 평균값을 빼주고 \n",
        "  - std에 있는 각각의 표준편차를 나눈다."
      ],
      "metadata": {
        "id": "FZCoMZEwU5FW"
      }
    },
    {
      "cell_type": "code",
      "source": [
        "train_scaled = (train_input - mean) / std\n",
        "\n",
        "print(train_input)\n",
        "print(train_scaled)"
      ],
      "metadata": {
        "colab": {
          "base_uri": "https://localhost:8080/"
        },
        "id": "N_6fv2dSU9vd",
        "outputId": "147e8591-955c-4089-adc6-8de83ac66dec"
      },
      "execution_count": 114,
      "outputs": [
        {
          "output_type": "stream",
          "name": "stdout",
          "text": [
            "[[  29.7  500. ]\n",
            " [  12.2   12.2]\n",
            " [  33.   700. ]\n",
            " [  11.3    8.7]\n",
            " [  39.5  925. ]\n",
            " [  29.   430. ]\n",
            " [  36.   714. ]\n",
            " [  36.   850. ]\n",
            " [  31.   475. ]\n",
            " [  35.   720. ]\n",
            " [  37.  1000. ]\n",
            " [  11.2    9.8]\n",
            " [  34.5  620. ]\n",
            " [  12.     9.8]\n",
            " [  29.   363. ]\n",
            " [  33.   700. ]\n",
            " [  30.7  500. ]\n",
            " [  38.5  955. ]\n",
            " [  33.5  650. ]\n",
            " [  14.3   19.7]\n",
            " [  31.5  500. ]\n",
            " [  25.4  242. ]\n",
            " [   9.8    6.7]\n",
            " [  32.   600. ]\n",
            " [  10.5    7.5]\n",
            " [  33.5  610. ]\n",
            " [  10.6    7. ]\n",
            " [  35.   700. ]\n",
            " [  32.   600. ]\n",
            " [  35.   725. ]\n",
            " [  13.    12.2]\n",
            " [  30.   450. ]\n",
            " [  32.   340. ]\n",
            " [  15.    19.9]\n",
            " [  30.   390. ]\n",
            " [  41.   975. ]]\n",
            "[[ 0.24070039  0.14198246]\n",
            " [-1.51237757 -1.36683783]\n",
            " [ 0.5712808   0.76060496]\n",
            " [-1.60253587 -1.37766373]\n",
            " [ 1.22242404  1.45655528]\n",
            " [ 0.17057727 -0.07453542]\n",
            " [ 0.87180845  0.80390854]\n",
            " [ 0.87180845  1.22457184]\n",
            " [ 0.37092904  0.06465464]\n",
            " [ 0.77163257  0.82246721]\n",
            " [ 0.97198434  1.68853872]\n",
            " [-1.61255346 -1.3742613 ]\n",
            " [ 0.72154463  0.51315596]\n",
            " [-1.53241275 -1.3742613 ]\n",
            " [ 0.17057727 -0.28177396]\n",
            " [ 0.5712808   0.76060496]\n",
            " [ 0.34087627  0.14198246]\n",
            " [ 1.12224816  1.54934866]\n",
            " [ 0.62136874  0.60594934]\n",
            " [-1.30200822 -1.34363949]\n",
            " [ 0.42101698  0.14198246]\n",
            " [-0.19005591 -0.65604058]\n",
            " [-1.75279969 -1.38384995]\n",
            " [ 0.47110492  0.45129371]\n",
            " [-1.68267658 -1.38137546]\n",
            " [ 0.62136874  0.48222484]\n",
            " [-1.67265899 -1.38292202]\n",
            " [ 0.77163257  0.76060496]\n",
            " [ 0.47110492  0.45129371]\n",
            " [ 0.77163257  0.83793278]\n",
            " [-1.43223687 -1.36683783]\n",
            " [ 0.27075315 -0.01267317]\n",
            " [ 0.47110492 -0.35291555]\n",
            " [-1.2318851  -1.34302087]\n",
            " [ 0.27075315 -0.19825992]\n",
            " [ 1.37268787  1.61121091]]\n"
          ]
        }
      ]
    },
    {
      "cell_type": "markdown",
      "source": [
        "### 전처리 데이터로 모델 훈련하기\n",
        "\n",
        "샘플 데이터 역시도 동일한 비율로 변환을 시켜주어야 함.\n",
        "\n",
        "- 중요한 점\n",
        "  - 샘플 데이터 변환은 **훈련 세트**의 mean, std를 이용하여 변환해야 함."
      ],
      "metadata": {
        "id": "FL5yuNEXVmBN"
      }
    },
    {
      "cell_type": "code",
      "source": [
        "new = ([25, 150] - mean) / std  # 샘플 데이터 변환\n",
        "\n",
        "plt.title(\"Check the preprocessed data\")\n",
        "plt.scatter(train_scaled[:, 0], train_scaled[:, 1])\n",
        "plt.scatter(new[0], new[1], marker = '^')\n",
        "plt.xlabel('length')\n",
        "plt.ylabel('weight')\n",
        "plt.show()"
      ],
      "metadata": {
        "colab": {
          "base_uri": "https://localhost:8080/",
          "height": 295
        },
        "id": "p6mX_C06V_3p",
        "outputId": "5d896dd8-7bae-4a39-fd1d-f71493defcc9"
      },
      "execution_count": 115,
      "outputs": [
        {
          "output_type": "display_data",
          "data": {
            "text/plain": [
              "<Figure size 432x288 with 1 Axes>"
            ],
            "image/png": "[encoded data removed]"
          },
          "metadata": {
            "needs_background": "light"
          }
        }
      ]
    },
    {
      "cell_type": "markdown",
      "source": [
        "앞서 표준편차 변환 전 산점도와 거의 동일해짐.\n",
        "달라진 점?\n",
        "- x축과 y축의 **범위가 동일**해졌다는 점!!\n",
        "\n",
        "<br>\n",
        "\n",
        "새로운 데이터셋으로 훈련을 시켜보자."
      ],
      "metadata": {
        "id": "CygwoElQWXOl"
      }
    },
    {
      "cell_type": "code",
      "source": [
        "kn.fit(train_scaled, train_target)"
      ],
      "metadata": {
        "colab": {
          "base_uri": "https://localhost:8080/"
        },
        "id": "c8TU_-XKWiiU",
        "outputId": "1f6e159f-fd84-4a0a-d594-c24317da38d8"
      },
      "execution_count": 116,
      "outputs": [
        {
          "output_type": "execute_result",
          "data": {
            "text/plain": [
              "KNeighborsClassifier()"
            ]
          },
          "metadata": {},
          "execution_count": 116
        }
      ]
    },
    {
      "cell_type": "code",
      "source": [
        "test_scaled = (test_input - mean) / std   # 테스트 스케일 변환\n",
        "kn.score(test_scaled, test_target)"
      ],
      "metadata": {
        "colab": {
          "base_uri": "https://localhost:8080/"
        },
        "id": "vlxSa-aQWo_-",
        "outputId": "2ec27070-6468-4c85-b86e-cca83aa628c4"
      },
      "execution_count": 117,
      "outputs": [
        {
          "output_type": "execute_result",
          "data": {
            "text/plain": [
              "1.0"
            ]
          },
          "metadata": {},
          "execution_count": 117
        }
      ]
    },
    {
      "cell_type": "code",
      "source": [
        "# 샘플을 이용하여 모델 예측해보기\n",
        "kn.predict([new])"
      ],
      "metadata": {
        "colab": {
          "base_uri": "https://localhost:8080/"
        },
        "id": "sbNvjKtAW0Gy",
        "outputId": "fe80f5f4-a515-4912-a80d-3ed48643655b"
      },
      "execution_count": 118,
      "outputs": [
        {
          "output_type": "execute_result",
          "data": {
            "text/plain": [
              "array([1.])"
            ]
          },
          "metadata": {},
          "execution_count": 118
        }
      ]
    },
    {
      "cell_type": "markdown",
      "source": [
        "가까운 이웃 데이터의 변화 확인해보기"
      ],
      "metadata": {
        "id": "D35EGbCgXBll"
      }
    },
    {
      "cell_type": "code",
      "source": [
        "distances, indexes = kn.kneighbors([new])\n",
        "\n",
        "plt.title(\"Check Changes in Nearest Neighbor Data\")\n",
        "plt.scatter(train_scaled[:, 0], train_scaled[:, 1])\n",
        "plt.scatter(new[0], new[1], marker = '^')\n",
        "plt.scatter(train_scaled[indexes, 0], train_scaled[indexes, 1], marker='D')\n",
        "plt.xlabel('length')\n",
        "plt.ylabel('weight')\n",
        "plt.show()"
      ],
      "metadata": {
        "colab": {
          "base_uri": "https://localhost:8080/",
          "height": 295
        },
        "id": "kI8X6d0GXDxL",
        "outputId": "c5ae9c40-dbf6-4834-b114-12f6e3a22dea"
      },
      "execution_count": 119,
      "outputs": [
        {
          "output_type": "display_data",
          "data": {
            "text/plain": [
              "<Figure size 432x288 with 1 Axes>"
            ],
            "image/png": "[encoded data removed]"
          },
          "metadata": {
            "needs_background": "light"
          }
        }
      ]
    },
    {
      "cell_type": "markdown",
      "source": [
        "### 전체 코드 확인하기"
      ],
      "metadata": {
        "id": "mAYsDtJJXTsY"
      }
    },
    {
      "cell_type": "code",
      "source": [
        "'''전체 코드 확인하기'''\n",
        "\n",
        "\n",
        "'''넘파이로 데이터 준비하기'''\n",
        "\n",
        "fish_length = [25.4, 26.3, 26.5, 29.0, 29.0, 29.7, 29.7, 30.0, 30.0, 30.7, 31.0, 31.0, \n",
        "                31.5, 32.0, 32.0, 32.0, 33.0, 33.0, 33.5, 33.5, 34.0, 34.0, 34.5, 35.0, \n",
        "                35.0, 35.0, 35.0, 36.0, 36.0, 37.0, 38.5, 38.5, 39.5, 41.0, 41.0, 9.8, \n",
        "                10.5, 10.6, 11.0, 11.2, 11.3, 11.8, 11.8, 12.0, 12.2, 12.4, 13.0, 14.3, 15.0]\n",
        "fish_weight = [242.0, 290.0, 340.0, 363.0, 430.0, 450.0, 500.0, 390.0, 450.0, 500.0, 475.0, 500.0, \n",
        "                500.0, 340.0, 600.0, 600.0, 700.0, 700.0, 610.0, 650.0, 575.0, 685.0, 620.0, 680.0, \n",
        "                700.0, 725.0, 720.0, 714.0, 850.0, 1000.0, 920.0, 955.0, 925.0, 975.0, 950.0, 6.7, \n",
        "                7.5, 7.0, 9.7, 9.8, 8.7, 10.0, 9.9, 9.8, 12.2, 13.4, 12.2, 19.7, 19.9]\n",
        "\n",
        "import numpy as np\n",
        "\n",
        "# fish_length와 fish_weight 데이터를 일렬로 세워서 나란히 옆으로 붙여줌.\n",
        "fish_data = np.column_stack((fish_length, fish_weight))\n",
        "\n",
        "# 타깃 데이터 만들기\n",
        "fish_target = np.concatenate((np.ones(35), np.zeros(14)))\n",
        "\n",
        "\n",
        "'''사이킷런으로 훈련 세트와 테스트 세트 나누기'''\n",
        "\n",
        "# model_selection 모듈 import 해주기\n",
        "from sklearn.model_selection import train_test_split\n",
        "\n",
        "# 샘플링 편향 방지\n",
        "train_input, test_input, train_target, test_target = train_test_split(\n",
        "    fish_data, fish_target, stratify=fish_target,random_state=42)\n",
        "\n",
        "\n",
        "'''수상한 도미 한마리의 데이터'''\n",
        "\n",
        "# k-최근접 이웃 모델 훈련하기\n",
        "from sklearn.neighbors import KNeighborsClassifier\n",
        "\n",
        "kn = KNeighborsClassifier()\n",
        "kn.fit(train_input, train_target)\n",
        "kn.score(test_input, test_target) # 1.0\n",
        "\n",
        "# 새로운 도미 데이터\n",
        "kn.predict([[25, 150]]) # 0..... 빙어라고 나옴.\n",
        "\n",
        "# 데이터 확인해보기\n",
        "import matplotlib.pyplot as plt\n",
        "\n",
        "plt.title(\"Data Check\")\n",
        "plt.scatter(train_input[:, 0], train_input[:, 1])\n",
        "plt.scatter(25, 150, marker=\"^\")  # marker는 모양을 지정함.\n",
        "plt.xlabel('length')\n",
        "plt.ylabel('weight')\n",
        "plt.show()\n",
        "\n",
        "# 가까운 데이터 확인해보기\n",
        "distances, indexes = kn.kneighbors([[25, 150]]) # 샘플에서 가까운 이웃들의 거리, 인덱스를 저장\n",
        "\n",
        "plt.title(\"Display nearby data\")\n",
        "plt.scatter(train_input[:, 0], train_input[:, 1])\n",
        "plt.scatter(25, 150, marker = '^')\n",
        "plt.scatter(train_input[indexes, 0], train_input[indexes, 1], marker='D')\n",
        "plt.xlabel('length')\n",
        "plt.ylabel('weight')\n",
        "plt.show()\n",
        "\n",
        "# x축의 범위를 다시 0~1000으로 조정\n",
        "plt.title(\"Scale the x-axis\")\n",
        "plt.scatter(train_input[:, 0], train_input[:, 1])\n",
        "plt.scatter(25, 150, marker = '^')\n",
        "plt.scatter(train_input[indexes, 0], train_input[indexes, 1], marker='D')\n",
        "plt.xlim((0, 1000)) # 범위 설정하기\n",
        "plt.xlabel('length')\n",
        "plt.ylabel('weight')\n",
        "plt.show()\n",
        "\n",
        "# 표준 점수 활용하여 데이터 전처리하기\n",
        "mean = np.mean(train_input, axis=0)\t# 평균\n",
        "std = np.std(train_input, axis=0)\t# 표준편차\n",
        "\n",
        "# train set 범위 조정\n",
        "train_scaled = (train_input - mean) / std\n",
        "\n",
        "# 전처리 데이터 확인하기\n",
        "new = ([25, 150] - mean) / std  # 샘플 데이터 변환\n",
        "\n",
        "plt.title(\"Check the preprocessed data\")\n",
        "plt.scatter(train_scaled[:, 0], train_scaled[:, 1])\n",
        "plt.scatter(new[0], new[1], marker = '^')\n",
        "plt.xlabel('length')\n",
        "plt.ylabel('weight')\n",
        "plt.show()\n",
        "\n",
        "# 새로운 데이터셋으로 훈련하기\n",
        "kn.fit(train_scaled, train_target)\n",
        "\n",
        "test_scaled = (test_input - mean) / std   # 테스트 스케일 변환\n",
        "kn.score(test_scaled, test_target)\t# 1.0\n",
        "\n",
        "# 샘플을 이용하여 모델 예측해보기\n",
        "kn.predict([new])\t# 1. > 도미! 예측 성공\n",
        "\n",
        "# 가까운 이웃 데이터의 변화 확인하기\n",
        "distances, indexes = kn.kneighbors([new])\n",
        "\n",
        "plt.title(\"Check Changes in Nearest Neighbor Data\")\n",
        "plt.scatter(train_scaled[:, 0], train_scaled[:, 1])\n",
        "plt.scatter(new[0], new[1], marker = '^')\n",
        "plt.scatter(train_scaled[indexes, 0], train_scaled[indexes, 1], marker='D')\n",
        "plt.xlabel('length')\n",
        "plt.ylabel('weight')\n",
        "plt.show()\n"
      ],
      "metadata": {
        "colab": {
          "base_uri": "https://localhost:8080/",
          "height": 1000
        },
        "id": "GKuohtJqXaNp",
        "outputId": "46d267c9-14c3-4899-fe2b-3b36bcf9e8c6"
      },
      "execution_count": 120,
      "outputs": [
        {
          "output_type": "display_data",
          "data": {
            "text/plain": [
              "<Figure size 432x288 with 1 Axes>"
            ],
            "image/png": "[encoded data removed]"
          },
          "metadata": {
            "needs_background": "light"
          }
        },
        {
          "output_type": "display_data",
          "data": {
            "text/plain": [
              "<Figure size 432x288 with 1 Axes>"
            ],
            "image/png": "[encoded data removed]"
          },
          "metadata": {
            "needs_background": "light"
          }
        },
        {
          "output_type": "display_data",
          "data": {
            "text/plain": [
              "<Figure size 432x288 with 1 Axes>"
            ],
            "image/png": "[encoded data removed]"
          },
          "metadata": {
            "needs_background": "light"
          }
        },
        {
          "output_type": "display_data",
          "data": {
            "text/plain": [
              "<Figure size 432x288 with 1 Axes>"
            ],
            "image/png": "[encoded data removed]"
          },
          "metadata": {
            "needs_background": "light"
          }
        },
        {
          "output_type": "display_data",
          "data": {
            "text/plain": [
              "<Figure size 432x288 with 1 Axes>"
            ],
            "image/png": "[encoded data removed]"
          },
          "metadata": {
            "needs_background": "light"
          }
        }
      ]
    }
  ]
}